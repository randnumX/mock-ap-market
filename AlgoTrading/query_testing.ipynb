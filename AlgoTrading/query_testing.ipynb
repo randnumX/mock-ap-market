{
 "cells": [
  {
   "cell_type": "code",
   "execution_count": 5,
   "id": "a98cf746-7dc9-4f61-92a7-2d7ded839e4f",
   "metadata": {},
   "outputs": [],
   "source": [
    "import pymongo\n",
    "from config.config import *"
   ]
  },
  {
   "cell_type": "code",
   "execution_count": 6,
   "id": "5392a06c-2b04-407c-ba42-23fac35dbb92",
   "metadata": {},
   "outputs": [],
   "source": [
    "connection = pymongo.MongoClient(db_client)\n"
   ]
  },
  {
   "cell_type": "code",
   "execution_count": 25,
   "id": "5d824d66-da77-4beb-a2a0-1babed8be33d",
   "metadata": {},
   "outputs": [],
   "source": [
    "# db.collection1.aggregate([{\"$lookup\":{\n",
    "#             \"from\": \"LastOneYearStockData\",       # other table name\n",
    "#             \"localField\": \"Security Id\",        # key field in collection 2\n",
    "#             \"foreignField\": \"scripName\",      # key field in collection 1\n",
    "#             \"as\": \"linked_collections\"   # alias for resulting table\n",
    "#         }},\n",
    "#         {\"$project\": {\"code\": 1, \"field_from_collection1\": 1, \"field_from_collection2\": 1}}\n",
    "#         ])\n",
    "\n",
    "\n",
    "# cursor=connection[database_name][collection_name].aggregate([\n",
    "#         {\n",
    "#         '$lookup':{\n",
    "#             'from': \"LastOneYearStockData\",       #other table name\n",
    "#             'localField': \"Security Id\",   #name of users table field\n",
    "#             'foreignField': \"scripName\", # name of userinfo table field\n",
    "#             'as': \"Ticker\"         #alias for userinfo table\n",
    "#         }\n",
    "#     },\n",
    "#     #define which fields are you want to fetch\n",
    "#     {\n",
    "#         '$project':{\n",
    "#             '_id' : 1,\n",
    "#             'Security Code' : 1,\n",
    "#             'Issuer Name' : 1,\n",
    "#             'Security Id' : 1,\n",
    "#             'Security Name': 1, \n",
    "#             'Status': 1, \n",
    "#             'Group': 1, \n",
    "#             'Face Value': 1, \n",
    "#             'Industry': 1, \n",
    "#             'Instrument': 1, \n",
    "#             'Industry New Name': 1, \n",
    "#             'Igroup Name': 1, \n",
    "#             'ISubgroup Name': 1 ,\n",
    "#             'pricedate' : \"$user_info.priceDate\",\n",
    "#             'Volume' : \"$user_role.Volume\",\n",
    "#             'Value' : \"$user_info.Value\",\n",
    "#             'Volume' : \"$user_role.Volume\",\n",
    "#         }\n",
    "#     }\n",
    "# ])"
   ]
  },
  {
   "cell_type": "code",
   "execution_count": 26,
   "id": "af9994d5-ecef-4f21-9dde-ddce28f0dec4",
   "metadata": {},
   "outputs": [
    {
     "name": "stdout",
     "output_type": "stream",
     "text": [
      "{'_id': ObjectId('655770ce565853b11223f263'), 'Security Code': 500002, 'Issuer Name': 'ABB India Limited', 'Security Id': 'ABB', 'Security Name': 'ABB India Limited', 'Status': 'Active', 'Group': 'A ', 'Face Value': 2, 'Industry': 'Heavy Electrical Equipment', 'Instrument': 'Equity', 'Industry New Name': 'Capital Goods', 'Igroup Name': 'Electrical Equipment', 'ISubgroup Name': 'Heavy Electrical Equipment'}\n"
     ]
    }
   ],
   "source": []
  }
 ],
 "metadata": {
  "kernelspec": {
   "display_name": "Python 3 (ipykernel)",
   "language": "python",
   "name": "python3"
  },
  "language_info": {
   "codemirror_mode": {
    "name": "ipython",
    "version": 3
   },
   "file_extension": ".py",
   "mimetype": "text/x-python",
   "name": "python",
   "nbconvert_exporter": "python",
   "pygments_lexer": "ipython3",
   "version": "3.11.4"
  }
 },
 "nbformat": 4,
 "nbformat_minor": 5
}
